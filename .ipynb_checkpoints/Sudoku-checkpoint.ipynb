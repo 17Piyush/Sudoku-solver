{
 "cells": [
  {
   "cell_type": "code",
   "execution_count": 2,
   "metadata": {},
   "outputs": [],
   "source": [
    "grid = [[0,0,0,0,0,0,0,7,2],\n",
    "       [0,0,0,0,4,9,8,0,0],\n",
    "       [3,1,0,0,0,0,0,0,0],\n",
    "       [0,0,0,0,0,0,4,0,0],\n",
    "       [0,0,4,1,0,0,7,0,0],\n",
    "       [1,6,0,3,0,0,0,2,0],\n",
    "       [6,0,0,0,5,0,0,0,4],\n",
    "       [5,0,0,2,0,0,0,0,0],\n",
    "       [0,0,8,0,0,0,0,0,0]]"
   ]
  },
  {
   "cell_type": "code",
   "execution_count": 3,
   "metadata": {},
   "outputs": [
    {
     "name": "stdout",
     "output_type": "stream",
     "text": [
      "[[0 0 0 0 0 0 0 7 2]\n",
      " [0 0 0 0 4 9 8 0 0]\n",
      " [3 1 0 0 0 0 0 0 0]\n",
      " [0 0 0 0 0 0 4 0 0]\n",
      " [0 0 4 1 0 0 7 0 0]\n",
      " [1 6 0 3 0 0 0 2 0]\n",
      " [6 0 0 0 5 0 0 0 4]\n",
      " [5 0 0 2 0 0 0 0 0]\n",
      " [0 0 8 0 0 0 0 0 0]]\n"
     ]
    }
   ],
   "source": [
    "import numpy as np\n",
    "print(np.matrix(grid))"
   ]
  },
  {
   "cell_type": "code",
   "execution_count": 4,
   "metadata": {},
   "outputs": [
    {
     "data": {
      "text/plain": [
       "False"
      ]
     },
     "execution_count": 4,
     "metadata": {},
     "output_type": "execute_result"
    }
   ],
   "source": [
    "def possible(y, x, n):\n",
    "    global grid\n",
    "    # Check Row\n",
    "    for i in range(0,9):\n",
    "        if grid[y][i] == n:\n",
    "            return False\n",
    "    \n",
    "    # Check column\n",
    "    for i in range(0,9):\n",
    "        if grid[i][x] == n:\n",
    "            return False\n",
    "    \n",
    "    # Check box\n",
    "    x0 = (x//3)*3 \n",
    "    y0 = (y//3)*3\n",
    "    for i in range(0,3):\n",
    "        for j in range(0, 3):\n",
    "            if grid[y0+i][x0+j] == n:\n",
    "                return False\n",
    "    return True\n",
    "possible(4, 4, 5)"
   ]
  },
  {
   "cell_type": "code",
   "execution_count": 5,
   "metadata": {},
   "outputs": [
    {
     "data": {
      "text/plain": [
       "False"
      ]
     },
     "execution_count": 5,
     "metadata": {},
     "output_type": "execute_result"
    }
   ],
   "source": [
    "possible(5, 5, 9)"
   ]
  },
  {
   "cell_type": "code",
   "execution_count": 6,
   "metadata": {},
   "outputs": [],
   "source": [
    "def sol():\n",
    "    global grid\n",
    "    for y in range(9):\n",
    "        for x in range(9):\n",
    "            if grid[y][x] == 0:          # <-- find the empty spot, in this case '0' is the empty spot\n",
    "                for n in range(1, 10):\n",
    "                    if possible(y,x,n):\n",
    "                        grid[y][x] = n\n",
    "                        sol()\n",
    "                        grid[y][x] = 0   #  <-- backtracking\n",
    "                return\n",
    "    print(np.matrix(grid))\n",
    "    input(\"More?\")"
   ]
  },
  {
   "cell_type": "code",
   "execution_count": null,
   "metadata": {},
   "outputs": [
    {
     "name": "stdout",
     "output_type": "stream",
     "text": [
      "[[4 8 5 6 1 3 9 7 2]\n",
      " [2 7 6 5 4 9 8 1 3]\n",
      " [3 1 9 7 2 8 6 4 5]\n",
      " [8 2 3 9 7 5 4 6 1]\n",
      " [9 5 4 1 6 2 7 3 8]\n",
      " [1 6 7 3 8 4 5 2 9]\n",
      " [6 3 2 8 5 7 1 9 4]\n",
      " [5 4 1 2 9 6 3 8 7]\n",
      " [7 9 8 4 3 1 2 5 6]]\n",
      "More?\n",
      "[[4 8 5 6 1 3 9 7 2]\n",
      " [2 7 6 5 4 9 8 1 3]\n",
      " [3 1 9 7 2 8 6 4 5]\n",
      " [8 3 2 9 7 5 4 6 1]\n",
      " [9 5 4 1 6 2 7 3 8]\n",
      " [1 6 7 3 8 4 5 2 9]\n",
      " [6 2 1 8 5 7 3 9 4]\n",
      " [5 4 3 2 9 6 1 8 7]\n",
      " [7 9 8 4 3 1 2 5 6]]\n"
     ]
    }
   ],
   "source": [
    "sol()"
   ]
  },
  {
   "cell_type": "code",
   "execution_count": null,
   "metadata": {},
   "outputs": [],
   "source": []
  }
 ],
 "metadata": {
  "kernelspec": {
   "display_name": "Python 3",
   "language": "python",
   "name": "python3"
  },
  "language_info": {
   "codemirror_mode": {
    "name": "ipython",
    "version": 3
   },
   "file_extension": ".py",
   "mimetype": "text/x-python",
   "name": "python",
   "nbconvert_exporter": "python",
   "pygments_lexer": "ipython3",
   "version": "3.8.3"
  }
 },
 "nbformat": 4,
 "nbformat_minor": 4
}
