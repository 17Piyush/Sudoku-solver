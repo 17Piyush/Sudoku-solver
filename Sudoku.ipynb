{
 "cells": [
  {
   "cell_type": "code",
   "execution_count": 4,
   "metadata": {},
   "outputs": [
    {
     "name": "stdout",
     "output_type": "stream",
     "text": [
      "[[2, 9, 0, 8, 7, 3, 0, 1, 0], [4, 0, 0, 0, 0, 5, 9, 2, 0], [0, 1, 0, 0, 2, 4, 0, 0, 0], [0, 0, 0, 0, 8, 9, 6, 0, 0], [0, 0, 4, 0, 0, 0, 8, 3, 0], [0, 8, 2, 3, 1, 0, 5, 0, 0], [0, 0, 9, 2, 3, 8, 0, 0, 7], [8, 0, 0, 0, 4, 7, 0, 0, 0], [3, 0, 5, 0, 9, 0, 2, 8, 4]]\n"
     ]
    }
   ],
   "source": [
    "board = [[2,9,0,8,7,3,0,1,0],\n",
    "       [4,0,0,0,0,5,9,2,0],\n",
    "       [0,1,0,0,2,4,0,0,0],\n",
    "       [0,0,0,0,8,9,6,0,0],\n",
    "       [0,0,4,0,0,0,8,3,0],\n",
    "       [0,8,2,3,1,0,5,0,0],\n",
    "       [0,0,9,2,3,8,0,0,7],\n",
    "       [8,0,0,0,4,7,0,0,0],\n",
    "       [3,0,5,0,9,0,2,8,4]]\n",
    "print(board)"
   ]
  },
  {
   "cell_type": "code",
   "execution_count": 5,
   "metadata": {},
   "outputs": [],
   "source": [
    "def solve(bo):\n",
    "    \n",
    "    find = find_empty(bo)\n",
    "    if not find:\n",
    "        return True\n",
    "    else:\n",
    "        row, col = find\n",
    "    for i in range(1, 10):\n",
    "        if valid(bo, i, (row, col)):\n",
    "            bo[row][col] = i\n",
    "            \n",
    "            if solve(bo):\n",
    "                return True\n",
    "            \n",
    "            bo[row][col] = 0  # it will backtract if 1-9 is not valid for a position\n",
    "    return False"
   ]
  },
  {
   "cell_type": "code",
   "execution_count": 6,
   "metadata": {},
   "outputs": [],
   "source": [
    "def valid(bo, num, pos):   # num = number that we just added, pos = position, bo = board\n",
    "    # check row\n",
    "    for i in range(len(bo[0])):\n",
    "        if bo[pos[0]][i] == num and pos[1] != i:\n",
    "            return False\n",
    "    \n",
    "    # check column\n",
    "    for i in range(len(bo)):\n",
    "        if bo[i][pos[1]] == num and pos[0] != i:\n",
    "            return False\n",
    "    \n",
    "    # check box\n",
    "    box_x = pos[1] // 3\n",
    "    box_y = pos[0] // 3\n",
    "    \n",
    "    for i in range(box_y*3, box_y*3 + 3):\n",
    "        for j in range(box_x*3, box_x*3 + 3):\n",
    "            if bo[i][j] == num and (i,j) != pos:\n",
    "                return False\n",
    "    return True"
   ]
  },
  {
   "cell_type": "code",
   "execution_count": 7,
   "metadata": {
    "scrolled": false
   },
   "outputs": [
    {
     "name": "stdout",
     "output_type": "stream",
     "text": [
      "290 | 873 | 010\n",
      "400 | 005 | 920\n",
      "010 | 024 | 000\n",
      "----------------\n",
      "000 | 089 | 600\n",
      "004 | 000 | 830\n",
      "082 | 310 | 500\n",
      "----------------\n",
      "009 | 238 | 007\n",
      "800 | 047 | 000\n",
      "305 | 090 | 284\n"
     ]
    }
   ],
   "source": [
    "# going to differentiate between square block\n",
    "def print_board(bo):\n",
    "    for i in range(len(bo)):\n",
    "        if i % 3 == 0 and i != 0:\n",
    "            print(\"----------------\")\n",
    "        \n",
    "        for j in range(len(bo[0])):\n",
    "            if j % 3 == 0 and j != 0:\n",
    "                print(\" | \", end=\"\")\n",
    "                \n",
    "            if j == 8:\n",
    "                print(bo[i][j])\n",
    "            else:\n",
    "                print(str(bo[i][j]) + \"\", end=\"\")\n",
    "\n",
    "print_board(board)"
   ]
  },
  {
   "cell_type": "code",
   "execution_count": 8,
   "metadata": {},
   "outputs": [],
   "source": [
    "def find_empty(bo):\n",
    "    for i in range(len(bo)):\n",
    "        for j in range(len(bo[0])):\n",
    "            if bo[i][j] == 0:\n",
    "                return (i, j)  # row, column\n",
    "    return None"
   ]
  },
  {
   "cell_type": "code",
   "execution_count": 9,
   "metadata": {},
   "outputs": [
    {
     "name": "stdout",
     "output_type": "stream",
     "text": [
      "290 | 873 | 010\n",
      "400 | 005 | 920\n",
      "010 | 024 | 000\n",
      "----------------\n",
      "000 | 089 | 600\n",
      "004 | 000 | 830\n",
      "082 | 310 | 500\n",
      "----------------\n",
      "009 | 238 | 007\n",
      "800 | 047 | 000\n",
      "305 | 090 | 284\n",
      "Solved Sudoku:\n",
      "296 | 873 | 415\n",
      "437 | 165 | 928\n",
      "518 | 924 | 763\n",
      "----------------\n",
      "153 | 489 | 672\n",
      "964 | 752 | 831\n",
      "782 | 316 | 549\n",
      "----------------\n",
      "649 | 238 | 157\n",
      "821 | 547 | 396\n",
      "375 | 691 | 284\n"
     ]
    }
   ],
   "source": [
    "print_board(board)\n",
    "solve(board)\n",
    "print(\"Solved Sudoku:\")\n",
    "print_board(board)"
   ]
  },
  {
   "cell_type": "code",
   "execution_count": 2,
   "metadata": {},
   "outputs": [],
   "source": [
    "grid = [[0,0,0,0,0,0,0,7,2],\n",
    "       [0,0,0,0,4,9,8,0,0],\n",
    "       [3,1,0,0,0,0,0,0,0],\n",
    "       [0,0,0,0,0,0,4,0,0],\n",
    "       [0,0,4,1,0,0,7,0,0],\n",
    "       [1,6,0,3,0,0,0,2,0],\n",
    "       [6,0,0,0,5,0,0,0,4],\n",
    "       [5,0,0,2,0,0,0,0,0],\n",
    "       [0,0,8,0,0,0,0,0,0]]"
   ]
  },
  {
   "cell_type": "code",
   "execution_count": 3,
   "metadata": {},
   "outputs": [
    {
     "name": "stdout",
     "output_type": "stream",
     "text": [
      "[[0 0 0 0 0 0 0 7 2]\n",
      " [0 0 0 0 4 9 8 0 0]\n",
      " [3 1 0 0 0 0 0 0 0]\n",
      " [0 0 0 0 0 0 4 0 0]\n",
      " [0 0 4 1 0 0 7 0 0]\n",
      " [1 6 0 3 0 0 0 2 0]\n",
      " [6 0 0 0 5 0 0 0 4]\n",
      " [5 0 0 2 0 0 0 0 0]\n",
      " [0 0 8 0 0 0 0 0 0]]\n"
     ]
    }
   ],
   "source": [
    "import numpy as np\n",
    "print(np.matrix(grid))"
   ]
  },
  {
   "cell_type": "code",
   "execution_count": 13,
   "metadata": {},
   "outputs": [
    {
     "data": {
      "text/plain": [
       "False"
      ]
     },
     "execution_count": 13,
     "metadata": {},
     "output_type": "execute_result"
    }
   ],
   "source": [
    "def possible(y, x, n):\n",
    "    global grid\n",
    "    # Check Row\n",
    "    for i in range(0,9):\n",
    "        if grid[y][i] == n:\n",
    "            return False\n",
    "    \n",
    "    # Check column\n",
    "    for i in range(0,9):\n",
    "        if grid[i][x] == n:\n",
    "            return False\n",
    "    \n",
    "    # Check box\n",
    "    x0 = (x//3)*3 \n",
    "    y0 = (y//3)*3\n",
    "    for i in range(0,3):\n",
    "        for j in range(0, 3):\n",
    "            if grid[y0+i][x0+j] == n:\n",
    "                return False\n",
    "    return True\n",
    "possible(4, 4, 5)"
   ]
  },
  {
   "cell_type": "code",
   "execution_count": 11,
   "metadata": {},
   "outputs": [
    {
     "data": {
      "text/plain": [
       "False"
      ]
     },
     "execution_count": 11,
     "metadata": {},
     "output_type": "execute_result"
    }
   ],
   "source": [
    "possible(5, 5, 9)"
   ]
  },
  {
   "cell_type": "code",
   "execution_count": 14,
   "metadata": {},
   "outputs": [],
   "source": [
    "def sol():\n",
    "    global grid\n",
    "    for y in range(9):\n",
    "        for x in range(9):\n",
    "            if grid[y][x] == 0:          # <-- find the empty spot, in this case '0' is the empty spot\n",
    "                for n in range(1, 10):\n",
    "                    if possible(y,x,n):\n",
    "                        grid[y][x] = n\n",
    "                        sol()\n",
    "                        grid[y][x] = 0   #  <-- backtracking\n",
    "                return\n",
    "    print(np.matrix(grid))\n",
    "    input(\"More?\")"
   ]
  },
  {
   "cell_type": "code",
   "execution_count": null,
   "metadata": {},
   "outputs": [
    {
     "name": "stdout",
     "output_type": "stream",
     "text": [
      "[[4 8 5 6 1 3 9 7 2]\n",
      " [2 7 6 5 4 9 8 1 3]\n",
      " [3 1 9 7 2 8 6 4 5]\n",
      " [8 2 3 9 7 5 4 6 1]\n",
      " [9 5 4 1 6 2 7 3 8]\n",
      " [1 6 7 3 8 4 5 2 9]\n",
      " [6 3 2 8 5 7 1 9 4]\n",
      " [5 4 1 2 9 6 3 8 7]\n",
      " [7 9 8 4 3 1 2 5 6]]\n",
      "More?stop\n",
      "[[4 8 5 6 1 3 9 7 2]\n",
      " [2 7 6 5 4 9 8 1 3]\n",
      " [3 1 9 7 2 8 6 4 5]\n",
      " [8 3 2 9 7 5 4 6 1]\n",
      " [9 5 4 1 6 2 7 3 8]\n",
      " [1 6 7 3 8 4 5 2 9]\n",
      " [6 2 1 8 5 7 3 9 4]\n",
      " [5 4 3 2 9 6 1 8 7]\n",
      " [7 9 8 4 3 1 2 5 6]]\n"
     ]
    }
   ],
   "source": [
    "sol()"
   ]
  },
  {
   "cell_type": "code",
   "execution_count": null,
   "metadata": {},
   "outputs": [],
   "source": []
  }
 ],
 "metadata": {
  "kernelspec": {
   "display_name": "Python 3",
   "language": "python",
   "name": "python3"
  },
  "language_info": {
   "codemirror_mode": {
    "name": "ipython",
    "version": 3
   },
   "file_extension": ".py",
   "mimetype": "text/x-python",
   "name": "python",
   "nbconvert_exporter": "python",
   "pygments_lexer": "ipython3",
   "version": "3.8.3"
  }
 },
 "nbformat": 4,
 "nbformat_minor": 4
}
